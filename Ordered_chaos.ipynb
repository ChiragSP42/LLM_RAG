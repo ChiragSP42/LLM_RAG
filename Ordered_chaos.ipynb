{
 "cells": [
  {
   "cell_type": "code",
   "execution_count": null,
   "id": "9e520f6a-1355-4f3f-9d89-a0e9c4fedf08",
   "metadata": {},
   "outputs": [],
   "source": [
    "import requests\n",
    "import json"
   ]
  },
  {
   "cell_type": "code",
   "execution_count": null,
   "id": "cd756334-9243-4722-89b2-b94662b89e3a",
   "metadata": {},
   "outputs": [],
   "source": [
    "import wikipedia\n",
    "\n",
    "try:\n",
    "    swiss_german = wikipedia.page('booasdfbas')\n",
    "    print(swiss_german.summary)\n",
    "except Exception as e:\n",
    "    print(e)"
   ]
  },
  {
   "cell_type": "code",
   "execution_count": null,
   "id": "ada69e2c-0c8b-498d-90d0-98c65f28ee85",
   "metadata": {},
   "outputs": [],
   "source": [
    "wikipedia.search('Stock')"
   ]
  },
  {
   "cell_type": "code",
   "execution_count": null,
   "id": "d0661352-4370-4d85-8adb-f5d7c8d056cf",
   "metadata": {},
   "outputs": [],
   "source": [
    "wikipedia.page(wikipedia.search('Equity')).summary"
   ]
  },
  {
   "cell_type": "code",
   "execution_count": null,
   "id": "5d8982be-2dcf-48ff-8494-f4f531312b68",
   "metadata": {},
   "outputs": [],
   "source": [
    "stock_related_wikipedia_titles = [\n",
    "    \"Stock market\",\n",
    "    \"Category: Stock market\",\n",
    "    \"Brokerage firms\",\n",
    "    \"Stock market crashes\",\n",
    "    \"Depositary receipts\",\n",
    "    \"Dividends\",\n",
    "    \"Fundamental analysis\",\n",
    "    \"Stock funds\",\n",
    "    \"Stock market indices\",\n",
    "    \"Initial public offering\",\n",
    "    \"Meme stocks\",\n",
    "    \"Publicly traded companies\",\n",
    "    \"Securities and exchange commissions\",\n",
    "    \"Share trading\",\n",
    "    \"Shareholders\",\n",
    "    \"Short selling\",\n",
    "    \"Stock market terminology\",\n",
    "    \"Stock traders\"\n",
    "]"
   ]
  },
  {
   "cell_type": "code",
   "execution_count": null,
   "id": "94f7b1d0-3432-4ff2-bcd4-5d33bc55e9bc",
   "metadata": {},
   "outputs": [],
   "source": [
    "financial_stock_terms = [\n",
    " 'Stock',\n",
    " 'Share',\n",
    " 'Market Cap',\n",
    " 'Dividend',\n",
    " 'P/E Ratio',\n",
    " 'EPS',\n",
    " 'Bull Market',\n",
    " 'Bear Market',\n",
    " 'Volume',\n",
    " 'Volatility',\n",
    " 'Blue Chip',\n",
    " 'NASDAQ',\n",
    " 'S&P 500',\n",
    " 'Dow Jones',\n",
    " 'Portfolio',\n",
    " 'Diversification',\n",
    " 'Asset Allocation',\n",
    " 'Broker',\n",
    " 'Commission',\n",
    " 'Limit Order',\n",
    " 'Market Order',\n",
    " 'Day Trading',\n",
    " 'Short Selling',\n",
    " 'Margin',\n",
    " 'Leverage',\n",
    " 'Bid-Ask Spread',\n",
    " 'Beta',\n",
    " 'Alpha',\n",
    " 'Technical Analysis',\n",
    " 'Fundamental Analysis',\n",
    " 'Moving Average',\n",
    " 'Resistance Level',\n",
    " 'Support Level',\n",
    " 'Trend Line',\n",
    " 'Breakout',\n",
    " 'Pullback',\n",
    " 'Rally',\n",
    " 'Correction',\n",
    " 'Sector',\n",
    " 'Industry',\n",
    " 'ETF',\n",
    " 'Mutual Fund',\n",
    " 'Index Fund',\n",
    " 'REIT',\n",
    " 'ADR',\n",
    " 'Futures',\n",
    " 'Options',\n",
    " 'Call Option',\n",
    " 'Put Option',\n",
    " 'Strike Price',\n",
    " 'Expiration Date',\n",
    " 'Derivative',\n",
    " 'Hedge',\n",
    " 'Arbitrage',\n",
    " 'SEC',\n",
    " 'Earnings Report',\n",
    " 'Balance Sheet',\n",
    " 'Income Statement',\n",
    " 'Cash Flow Statement',\n",
    " 'Quarterly Report',\n",
    " 'Annual Report',\n",
    " '10-K',\n",
    " '10-Q',\n",
    " 'Price Target',\n",
    " 'Upgrade',\n",
    " 'Downgrade',\n",
    " 'Overweight',\n",
    " 'Underweight',\n",
    " 'Market Maker',\n",
    " 'Dark Pool',\n",
    " 'High-Frequency Trading',\n",
    " 'Algorithmic Trading',\n",
    " 'Front-Running',\n",
    " 'Penny Stock',\n",
    " 'Growth Stock',\n",
    " 'Value Stock',\n",
    " 'Cyclical Stock',\n",
    " 'Preferred Stock',\n",
    " 'Common Stock',\n",
    " 'Warrant',\n",
    " 'Rights Issue',\n",
    " 'Stock Split',\n",
    " 'Reverse Split',\n",
    " 'Buyback',\n",
    " 'Dilution',\n",
    " 'Outstanding Shares',\n",
    " 'Treasury Stock',\n",
    " 'Ex-Dividend Date',\n",
    " 'Payout Ratio',\n",
    " 'Dividend Reinvestment Plan (DRIP)',\n",
    " 'Capital Loss',\n",
    " 'Tax-Loss Harvesting',\n",
    " 'Wash Sale']"
   ]
  },
  {
   "cell_type": "code",
   "execution_count": null,
   "id": "49941ab4-1747-47c2-9687-144103188d18",
   "metadata": {},
   "outputs": [],
   "source": [
    "for term in financial_stock_terms:\n",
    "    try:\n",
    "        search_results = wikipedia.search(term)\n",
    "        page = wikipedia.page(search_results)\n",
    "        print(page.summary)\n",
    "        break\n",
    "    except:\n",
    "        print(f\"Page {term} not found, removed from list\")\n",
    "        financial_stock_terms.remove(term)\n",
    "\n",
    "# financial_stock_terms"
   ]
  },
  {
   "cell_type": "code",
   "execution_count": null,
   "id": "68ab2c57-8690-463c-9580-5d2c8f4ffed5",
   "metadata": {},
   "outputs": [],
   "source": [
    "temp_dict = {\"Stock\": \"This is a stock\",\n",
    "            \"Dividends\": \"This is a dividend\"}\n",
    "\n",
    "list(temp_dict.values())"
   ]
  },
  {
   "cell_type": "code",
   "execution_count": null,
   "id": "ec18365c-6a7b-4f54-abbf-364b40e7c70b",
   "metadata": {},
   "outputs": [],
   "source": [
    "string = \"Hello world, this is Chirag\"\n",
    "print(string[:10])"
   ]
  },
  {
   "cell_type": "code",
   "execution_count": 1,
   "id": "e94be08c-dc53-4ed2-bd4d-431e3a29b7ae",
   "metadata": {},
   "outputs": [],
   "source": [
    "import os\n",
    "import torch\n",
    "import chromadb\n",
    "from transformers import AutoTokenizer, AutoModel, AutoModelForCausalLM, pipeline\n",
    "import numpy as np\n",
    "import pandas as pd\n",
    "import huggingface_hub"
   ]
  },
  {
   "cell_type": "code",
   "execution_count": null,
   "id": "095512e8-a283-4cfb-8c3e-ea80065c6e3c",
   "metadata": {},
   "outputs": [
    {
     "name": "stdout",
     "output_type": "stream",
     "text": [
      "Token is valid (permission: fineGrained).\n",
      "Your token has been saved in your configured git credential helpers (osxkeychain).\n",
      "Your token has been saved to /Users/ChiragSP/.cache/huggingface/token\n",
      "Login successful\n"
     ]
    }
   ],
   "source": [
    "# # os.environ[\"TOKENIZERS_PARALLELISM\"] = \"false\"\n",
    "# huggingface_hub.login(token=HF_TOKEN, add_to_git_credential=True)"
   ]
  },
  {
   "cell_type": "code",
   "execution_count": 3,
   "id": "910b8e0b-35d0-431e-8c31-b22f0e89b43f",
   "metadata": {},
   "outputs": [
    {
     "ename": "ValueError",
     "evalue": "Unrecognized configuration class <class 'transformers_modules.apple.OpenELM-450M-Instruct.4ed2a9952ee227f05c6136617b161690851a2e86.configuration_openelm.OpenELMConfig'> to build an AutoTokenizer.\nModel type should be one of AlbertConfig, AlignConfig, BarkConfig, BartConfig, BertConfig, BertGenerationConfig, BigBirdConfig, BigBirdPegasusConfig, BioGptConfig, BlenderbotConfig, BlenderbotSmallConfig, BlipConfig, Blip2Config, BloomConfig, BridgeTowerConfig, BrosConfig, CamembertConfig, CanineConfig, ChameleonConfig, ChineseCLIPConfig, ClapConfig, CLIPConfig, CLIPSegConfig, ClvpConfig, LlamaConfig, CodeGenConfig, CohereConfig, ConvBertConfig, CpmAntConfig, CTRLConfig, Data2VecAudioConfig, Data2VecTextConfig, DbrxConfig, DebertaConfig, DebertaV2Config, DistilBertConfig, DPRConfig, ElectraConfig, ErnieConfig, ErnieMConfig, EsmConfig, FalconConfig, FalconMambaConfig, FastSpeech2ConformerConfig, FlaubertConfig, FNetConfig, FSMTConfig, FunnelConfig, GemmaConfig, Gemma2Config, GitConfig, GPT2Config, GPT2Config, GPTBigCodeConfig, GPTNeoConfig, GPTNeoXConfig, GPTNeoXJapaneseConfig, GPTJConfig, GPTSanJapaneseConfig, GroundingDinoConfig, GroupViTConfig, HubertConfig, IBertConfig, IdeficsConfig, Idefics2Config, InstructBlipConfig, InstructBlipVideoConfig, JambaConfig, JetMoeConfig, JukeboxConfig, Kosmos2Config, LayoutLMConfig, LayoutLMv2Config, LayoutLMv3Config, LEDConfig, LiltConfig, LlamaConfig, LlavaConfig, LlavaNextConfig, LlavaNextVideoConfig, LongformerConfig, LongT5Config, LukeConfig, LxmertConfig, M2M100Config, MambaConfig, Mamba2Config, MarianConfig, MBartConfig, MegaConfig, MegatronBertConfig, MgpstrConfig, MistralConfig, MixtralConfig, MllamaConfig, MobileBertConfig, MPNetConfig, MptConfig, MraConfig, MT5Config, MusicgenConfig, MusicgenMelodyConfig, MvpConfig, NezhaConfig, NllbMoeConfig, NystromformerConfig, OlmoConfig, OlmoeConfig, OmDetTurboConfig, OneFormerConfig, OpenAIGPTConfig, OPTConfig, Owlv2Config, OwlViTConfig, PaliGemmaConfig, PegasusConfig, PegasusXConfig, PerceiverConfig, PersimmonConfig, PhiConfig, Phi3Config, Pix2StructConfig, PixtralVisionConfig, PLBartConfig, ProphetNetConfig, QDQBertConfig, Qwen2Config, Qwen2AudioConfig, Qwen2MoeConfig, RagConfig, RealmConfig, RecurrentGemmaConfig, ReformerConfig, RemBertConfig, RetriBertConfig, RobertaConfig, RobertaPreLayerNormConfig, RoCBertConfig, RoFormerConfig, RwkvConfig, SeamlessM4TConfig, SeamlessM4Tv2Config, SiglipConfig, Speech2TextConfig, Speech2Text2Config, SpeechT5Config, SplinterConfig, SqueezeBertConfig, StableLmConfig, Starcoder2Config, SwitchTransformersConfig, T5Config, TapasConfig, TransfoXLConfig, TvpConfig, UdopConfig, UMT5Config, VideoLlavaConfig, ViltConfig, VipLlavaConfig, VisualBertConfig, VitsConfig, Wav2Vec2Config, Wav2Vec2BertConfig, Wav2Vec2ConformerConfig, WhisperConfig, XCLIPConfig, XGLMConfig, XLMConfig, XLMProphetNetConfig, XLMRobertaConfig, XLMRobertaXLConfig, XLNetConfig, XmodConfig, YosoConfig.",
     "output_type": "error",
     "traceback": [
      "\u001b[0;31m---------------------------------------------------------------------------\u001b[0m",
      "\u001b[0;31mValueError\u001b[0m                                Traceback (most recent call last)",
      "Cell \u001b[0;32mIn[3], line 1\u001b[0m\n\u001b[0;32m----> 1\u001b[0m tokenizer \u001b[38;5;241m=\u001b[39m \u001b[43mAutoTokenizer\u001b[49m\u001b[38;5;241;43m.\u001b[39;49m\u001b[43mfrom_pretrained\u001b[49m\u001b[43m(\u001b[49m\u001b[38;5;124;43m\"\u001b[39;49m\u001b[38;5;124;43mapple/OpenELM-450M-Instruct\u001b[39;49m\u001b[38;5;124;43m\"\u001b[39;49m\u001b[43m,\u001b[49m\u001b[43m \u001b[49m\u001b[43mtrust_remote_code\u001b[49m\u001b[38;5;241;43m=\u001b[39;49m\u001b[38;5;28;43;01mTrue\u001b[39;49;00m\u001b[43m)\u001b[49m\n\u001b[1;32m      2\u001b[0m model \u001b[38;5;241m=\u001b[39m AutoModelForCausalLM\u001b[38;5;241m.\u001b[39mfrom_pretrained(\u001b[38;5;124m\"\u001b[39m\u001b[38;5;124mapple/OpenELM-450M-Instruct\u001b[39m\u001b[38;5;124m\"\u001b[39m, trust_remote_code\u001b[38;5;241m=\u001b[39m\u001b[38;5;28;01mTrue\u001b[39;00m)\n",
      "File \u001b[0;32m~/Library/Python/3.9/lib/python/site-packages/transformers/models/auto/tokenization_auto.py:936\u001b[0m, in \u001b[0;36mAutoTokenizer.from_pretrained\u001b[0;34m(cls, pretrained_model_name_or_path, *inputs, **kwargs)\u001b[0m\n\u001b[1;32m    930\u001b[0m         \u001b[38;5;28;01melse\u001b[39;00m:\n\u001b[1;32m    931\u001b[0m             \u001b[38;5;28;01mraise\u001b[39;00m \u001b[38;5;167;01mValueError\u001b[39;00m(\n\u001b[1;32m    932\u001b[0m                 \u001b[38;5;124m\"\u001b[39m\u001b[38;5;124mThis tokenizer cannot be instantiated. Please make sure you have `sentencepiece` installed \u001b[39m\u001b[38;5;124m\"\u001b[39m\n\u001b[1;32m    933\u001b[0m                 \u001b[38;5;124m\"\u001b[39m\u001b[38;5;124min order to use this tokenizer.\u001b[39m\u001b[38;5;124m\"\u001b[39m\n\u001b[1;32m    934\u001b[0m             )\n\u001b[0;32m--> 936\u001b[0m \u001b[38;5;28;01mraise\u001b[39;00m \u001b[38;5;167;01mValueError\u001b[39;00m(\n\u001b[1;32m    937\u001b[0m     \u001b[38;5;124mf\u001b[39m\u001b[38;5;124m\"\u001b[39m\u001b[38;5;124mUnrecognized configuration class \u001b[39m\u001b[38;5;132;01m{\u001b[39;00mconfig\u001b[38;5;241m.\u001b[39m\u001b[38;5;18m__class__\u001b[39m\u001b[38;5;132;01m}\u001b[39;00m\u001b[38;5;124m to build an AutoTokenizer.\u001b[39m\u001b[38;5;130;01m\\n\u001b[39;00m\u001b[38;5;124m\"\u001b[39m\n\u001b[1;32m    938\u001b[0m     \u001b[38;5;124mf\u001b[39m\u001b[38;5;124m\"\u001b[39m\u001b[38;5;124mModel type should be one of \u001b[39m\u001b[38;5;132;01m{\u001b[39;00m\u001b[38;5;124m'\u001b[39m\u001b[38;5;124m, \u001b[39m\u001b[38;5;124m'\u001b[39m\u001b[38;5;241m.\u001b[39mjoin(c\u001b[38;5;241m.\u001b[39m\u001b[38;5;18m__name__\u001b[39m\u001b[38;5;250m \u001b[39m\u001b[38;5;28;01mfor\u001b[39;00m\u001b[38;5;250m \u001b[39mc\u001b[38;5;250m \u001b[39m\u001b[38;5;129;01min\u001b[39;00m\u001b[38;5;250m \u001b[39mTOKENIZER_MAPPING\u001b[38;5;241m.\u001b[39mkeys())\u001b[38;5;132;01m}\u001b[39;00m\u001b[38;5;124m.\u001b[39m\u001b[38;5;124m\"\u001b[39m\n\u001b[1;32m    939\u001b[0m )\n",
      "\u001b[0;31mValueError\u001b[0m: Unrecognized configuration class <class 'transformers_modules.apple.OpenELM-450M-Instruct.4ed2a9952ee227f05c6136617b161690851a2e86.configuration_openelm.OpenELMConfig'> to build an AutoTokenizer.\nModel type should be one of AlbertConfig, AlignConfig, BarkConfig, BartConfig, BertConfig, BertGenerationConfig, BigBirdConfig, BigBirdPegasusConfig, BioGptConfig, BlenderbotConfig, BlenderbotSmallConfig, BlipConfig, Blip2Config, BloomConfig, BridgeTowerConfig, BrosConfig, CamembertConfig, CanineConfig, ChameleonConfig, ChineseCLIPConfig, ClapConfig, CLIPConfig, CLIPSegConfig, ClvpConfig, LlamaConfig, CodeGenConfig, CohereConfig, ConvBertConfig, CpmAntConfig, CTRLConfig, Data2VecAudioConfig, Data2VecTextConfig, DbrxConfig, DebertaConfig, DebertaV2Config, DistilBertConfig, DPRConfig, ElectraConfig, ErnieConfig, ErnieMConfig, EsmConfig, FalconConfig, FalconMambaConfig, FastSpeech2ConformerConfig, FlaubertConfig, FNetConfig, FSMTConfig, FunnelConfig, GemmaConfig, Gemma2Config, GitConfig, GPT2Config, GPT2Config, GPTBigCodeConfig, GPTNeoConfig, GPTNeoXConfig, GPTNeoXJapaneseConfig, GPTJConfig, GPTSanJapaneseConfig, GroundingDinoConfig, GroupViTConfig, HubertConfig, IBertConfig, IdeficsConfig, Idefics2Config, InstructBlipConfig, InstructBlipVideoConfig, JambaConfig, JetMoeConfig, JukeboxConfig, Kosmos2Config, LayoutLMConfig, LayoutLMv2Config, LayoutLMv3Config, LEDConfig, LiltConfig, LlamaConfig, LlavaConfig, LlavaNextConfig, LlavaNextVideoConfig, LongformerConfig, LongT5Config, LukeConfig, LxmertConfig, M2M100Config, MambaConfig, Mamba2Config, MarianConfig, MBartConfig, MegaConfig, MegatronBertConfig, MgpstrConfig, MistralConfig, MixtralConfig, MllamaConfig, MobileBertConfig, MPNetConfig, MptConfig, MraConfig, MT5Config, MusicgenConfig, MusicgenMelodyConfig, MvpConfig, NezhaConfig, NllbMoeConfig, NystromformerConfig, OlmoConfig, OlmoeConfig, OmDetTurboConfig, OneFormerConfig, OpenAIGPTConfig, OPTConfig, Owlv2Config, OwlViTConfig, PaliGemmaConfig, PegasusConfig, PegasusXConfig, PerceiverConfig, PersimmonConfig, PhiConfig, Phi3Config, Pix2StructConfig, PixtralVisionConfig, PLBartConfig, ProphetNetConfig, QDQBertConfig, Qwen2Config, Qwen2AudioConfig, Qwen2MoeConfig, RagConfig, RealmConfig, RecurrentGemmaConfig, ReformerConfig, RemBertConfig, RetriBertConfig, RobertaConfig, RobertaPreLayerNormConfig, RoCBertConfig, RoFormerConfig, RwkvConfig, SeamlessM4TConfig, SeamlessM4Tv2Config, SiglipConfig, Speech2TextConfig, Speech2Text2Config, SpeechT5Config, SplinterConfig, SqueezeBertConfig, StableLmConfig, Starcoder2Config, SwitchTransformersConfig, T5Config, TapasConfig, TransfoXLConfig, TvpConfig, UdopConfig, UMT5Config, VideoLlavaConfig, ViltConfig, VipLlavaConfig, VisualBertConfig, VitsConfig, Wav2Vec2Config, Wav2Vec2BertConfig, Wav2Vec2ConformerConfig, WhisperConfig, XCLIPConfig, XGLMConfig, XLMConfig, XLMProphetNetConfig, XLMRobertaConfig, XLMRobertaXLConfig, XLNetConfig, XmodConfig, YosoConfig."
     ]
    }
   ],
   "source": [
    "tokenizer = AutoTokenizer.from_pretrained(\"meta-llama/Llama-2-7b-chat-hf\", trust_remote_code=True)\n",
    "model = AutoModelForCausalLM.from_pretrained(\"apple/OpenELM-450M-Instruct\", trust_remote_code=True)"
   ]
  },
  {
   "cell_type": "code",
   "execution_count": null,
   "id": "81350750-3046-4e44-9626-d55a3430ce2f",
   "metadata": {},
   "outputs": [],
   "source": [
    "model.save_pretrained('model')\n",
    "tokenizer.save_pretrained('tokenizer')"
   ]
  },
  {
   "cell_type": "code",
   "execution_count": null,
   "id": "b9fb91d8-3d00-4f77-902b-218ac006f014",
   "metadata": {},
   "outputs": [],
   "source": [
    "tokenizer = AutoTokenizer.from_pretrained(\"tokenizer/\", trust_remote_code=True)\n",
    "model = AutoModelForCausalLM.from_pretrained(\"model/\", trust_remote_code=True)"
   ]
  },
  {
   "cell_type": "code",
   "execution_count": null,
   "id": "99fddf10-4cf1-484f-9a58-df5bbfa33027",
   "metadata": {},
   "outputs": [],
   "source": []
  }
 ],
 "metadata": {
  "kernelspec": {
   "display_name": "Python 3 (ipykernel)",
   "language": "python",
   "name": "python3"
  },
  "language_info": {
   "codemirror_mode": {
    "name": "ipython",
    "version": 3
   },
   "file_extension": ".py",
   "mimetype": "text/x-python",
   "name": "python",
   "nbconvert_exporter": "python",
   "pygments_lexer": "ipython3",
   "version": "3.9.6"
  }
 },
 "nbformat": 4,
 "nbformat_minor": 5
}
